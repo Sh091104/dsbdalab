{
 "cells": [
  {
   "cell_type": "code",
   "execution_count": 2,
   "id": "5d0b5f22",
   "metadata": {},
   "outputs": [
    {
     "name": "stderr",
     "output_type": "stream",
     "text": [
      "[nltk_data] Downloading package punkt to\n",
      "[nltk_data]     C:\\Users\\Welcome\\AppData\\Roaming\\nltk_data...\n",
      "[nltk_data]   Package punkt is already up-to-date!\n",
      "[nltk_data] Downloading package stopwords to\n",
      "[nltk_data]     C:\\Users\\Welcome\\AppData\\Roaming\\nltk_data...\n",
      "[nltk_data]   Unzipping corpora\\stopwords.zip.\n",
      "[nltk_data] Downloading package wordnet to\n",
      "[nltk_data]     C:\\Users\\Welcome\\AppData\\Roaming\\nltk_data...\n",
      "[nltk_data]   Package wordnet is already up-to-date!\n",
      "[nltk_data] Downloading package averaged_perceptron_tagger to\n",
      "[nltk_data]     C:\\Users\\Welcome\\AppData\\Roaming\\nltk_data...\n",
      "[nltk_data]   Package averaged_perceptron_tagger is already up-to-\n",
      "[nltk_data]       date!\n"
     ]
    },
    {
     "data": {
      "text/plain": [
       "True"
      ]
     },
     "execution_count": 2,
     "metadata": {},
     "output_type": "execute_result"
    }
   ],
   "source": [
    "import nltk\n",
    "\n",
    "# Download the necessary datasets and models\n",
    "nltk.download('punkt')\n",
    "nltk.download('stopwords')\n",
    "nltk.download('wordnet')\n",
    "nltk.download('averaged_perceptron_tagger')\n"
   ]
  },
  {
   "cell_type": "code",
   "execution_count": 4,
   "id": "75b2013e",
   "metadata": {},
   "outputs": [],
   "source": [
    "text= \"Tokenization is the first step in text analytics. The process of breaking down a text paragraph into smaller chunks such as words or sentences is called Tokenization.\" "
   ]
  },
  {
   "cell_type": "code",
   "execution_count": 6,
   "id": "0f4a5151",
   "metadata": {},
   "outputs": [
    {
     "name": "stdout",
     "output_type": "stream",
     "text": [
      "['Tokenization is the first step in text analytics.', 'The process of breaking down a text paragraph into smaller chunks such as words or sentences is called Tokenization.']\n"
     ]
    }
   ],
   "source": [
    "from nltk.tokenize import sent_tokenize \n",
    "tokenized_text= sent_tokenize(text) \n",
    "print(tokenized_text)"
   ]
  },
  {
   "cell_type": "code",
   "execution_count": 7,
   "id": "5c1fa1d8",
   "metadata": {},
   "outputs": [
    {
     "name": "stdout",
     "output_type": "stream",
     "text": [
      "['Tokenization', 'is', 'the', 'first', 'step', 'in', 'text', 'analytics', '.', 'The', 'process', 'of', 'breaking', 'down', 'a', 'text', 'paragraph', 'into', 'smaller', 'chunks', 'such', 'as', 'words', 'or', 'sentences', 'is', 'called', 'Tokenization', '.']\n"
     ]
    }
   ],
   "source": [
    "from nltk.tokenize import word_tokenize \n",
    "tokenized_word=word_tokenize(text) \n",
    "print(tokenized_word)"
   ]
  },
  {
   "cell_type": "code",
   "execution_count": 8,
   "id": "8af47baa",
   "metadata": {},
   "outputs": [
    {
     "name": "stdout",
     "output_type": "stream",
     "text": [
      "{'that', 'm', 'than', 'about', 'other', 'themselves', 'mightn', \"weren't\", \"they've\", 'further', \"won't\", 'she', 'no', 'because', 'herself', 'theirs', 'with', 'through', 'from', 'off', 'those', \"shouldn't\", 'both', 'y', \"hadn't\", 'he', 'more', 'does', \"i'm\", 'while', 'your', \"he'll\", 'this', 'own', 'myself', 'on', \"she's\", 'yourselves', 'just', \"wasn't\", 'until', 'her', 'or', 'below', 'up', 'once', \"you're\", 'these', \"they're\", 'o', 'ourselves', 'nor', 'ain', 'any', 'very', \"didn't\", \"needn't\", \"shan't\", 'its', 'after', 'all', 'it', 'me', 'shouldn', \"should've\", 'here', \"you'll\", \"she'll\", 'where', 'whom', 'at', 'being', 'over', 're', 'him', 't', 'am', 'why', 'you', \"aren't\", \"i'd\", 'to', 'of', 'aren', 'same', 'my', 'down', 'we', \"we'd\", \"we'll\", 'which', 'wouldn', \"it'll\", \"couldn't\", 'mustn', \"we've\", \"they'd\", 'for', 'out', 'few', 'will', 'do', \"don't\", 'the', 'll', \"it'd\", 'between', \"hasn't\", 'then', 'a', 'haven', 'needn', 'his', \"mustn't\", 'won', 've', 'd', 'an', 'most', 'so', 'their', 'who', \"he's\", 'isn', 'doesn', 'having', 'is', 'ma', 'yours', \"i'll\", 'should', 'against', 'himself', 'such', 'wasn', 'what', \"wouldn't\", 'couldn', \"you've\", 'under', 'as', \"she'd\", \"you'd\", \"doesn't\", 'has', 'weren', 'i', 'there', 'in', 'when', 'not', 'didn', 'was', 'some', 'doing', 'before', 'how', 'itself', 'if', 'ours', 'too', 'can', 'now', 'them', 'yourself', 'again', 'and', \"they'll\", \"that'll\", 'don', 'hers', 'were', \"it's\", 'but', 's', 'into', 'by', 'are', 'had', \"we're\", 'shan', 'been', 'only', 'during', 'be', \"isn't\", 'did', 'hadn', \"mightn't\", \"haven't\", 'hasn', 'our', 'they', 'above', 'have', 'each', \"i've\", \"he'd\"}\n"
     ]
    }
   ],
   "source": [
    "from nltk.corpus import stopwords \n",
    "stop_words=set(stopwords.words(\"english\")) \n",
    "print(stop_words)"
   ]
  },
  {
   "cell_type": "code",
   "execution_count": 10,
   "id": "74ead29b",
   "metadata": {},
   "outputs": [
    {
     "name": "stdout",
     "output_type": "stream",
     "text": [
      "Tokenized Sentence: ['how', 'to', 'remove', 'stop', 'words', 'with', 'nltk', 'library', 'in', 'python']\n",
      "Filterd Sentence: ['remove', 'stop', 'words', 'nltk', 'library', 'python']\n"
     ]
    }
   ],
   "source": [
    "import re\n",
    "text= \"How to remove stop words with NLTK library in Python?\" \n",
    "text= re.sub('[^a-zA-Z]', ' ',text) \n",
    "tokens = word_tokenize(text.lower()) \n",
    "filtered_text=[] \n",
    "for w in tokens: \n",
    "     if w not in stop_words: \n",
    "        filtered_text.append(w) \n",
    "print(\"Tokenized Sentence:\",tokens) \n",
    "print(\"Filterd Sentence:\",filtered_text)"
   ]
  },
  {
   "cell_type": "code",
   "execution_count": 13,
   "id": "f54578a5",
   "metadata": {},
   "outputs": [
    {
     "name": "stdout",
     "output_type": "stream",
     "text": [
      "wait\n"
     ]
    }
   ],
   "source": [
    "from nltk.stem import PorterStemmer \n",
    "e_words= [\"wait\", \"waiting\", \"waited\", \"waits\"]\n",
    "ps =PorterStemmer() \n",
    "for w in e_words: \n",
    "    rootWord=ps.stem(w) \n",
    "print(rootWord) "
   ]
  },
  {
   "cell_type": "code",
   "execution_count": 16,
   "id": "d7960fc4",
   "metadata": {},
   "outputs": [
    {
     "name": "stdout",
     "output_type": "stream",
     "text": [
      "Lemma for studies is  study\n",
      "Lemma for studying is  studying\n",
      "Lemma for cries is  cry\n",
      "Lemma for cry is  cry\n"
     ]
    }
   ],
   "source": [
    "from nltk.stem import WordNetLemmatizer \n",
    "wordnet_lemmatizer =WordNetLemmatizer() \n",
    "text = \"studies studying cries cry\"\n",
    "tokenization = nltk.word_tokenize(text) \n",
    "for w in tokenization: \n",
    "     print(\"Lemma for {} is  {}\".format(w,wordnet_lemmatizer.lemmatize(w))) "
   ]
  },
  {
   "cell_type": "code",
   "execution_count": 19,
   "id": "7603699c",
   "metadata": {},
   "outputs": [],
   "source": [
    "import nltk \n",
    "from nltk.tokenize import word_tokenize \n",
    "data=\"The pink sweater fit her perfectly\" \n",
    "words=word_tokenize(data)"
   ]
  },
  {
   "cell_type": "code",
   "execution_count": 20,
   "id": "affbfa39",
   "metadata": {},
   "outputs": [
    {
     "data": {
      "text/plain": [
       "['The', 'pink', 'sweater', 'fit', 'her', 'perfectly']"
      ]
     },
     "execution_count": 20,
     "metadata": {},
     "output_type": "execute_result"
    }
   ],
   "source": [
    "words"
   ]
  },
  {
   "cell_type": "code",
   "execution_count": 22,
   "id": "0863a86b",
   "metadata": {},
   "outputs": [
    {
     "name": "stdout",
     "output_type": "stream",
     "text": [
      "[('The', 'DT')]\n",
      "[('pink', 'NN')]\n",
      "[('sweater', 'NN')]\n",
      "[('fit', 'NN')]\n",
      "[('her', 'PRP$')]\n",
      "[('perfectly', 'RB')]\n"
     ]
    }
   ],
   "source": [
    "for word in words: \n",
    "    print(nltk.pos_tag([word]))"
   ]
  },
  {
   "cell_type": "code",
   "execution_count": 23,
   "id": "30632917",
   "metadata": {},
   "outputs": [],
   "source": [
    "import pandas as pd \n",
    "from sklearn.feature_extraction.text import TfidfVectorizer "
   ]
  },
  {
   "cell_type": "code",
   "execution_count": 24,
   "id": "e0936024",
   "metadata": {},
   "outputs": [],
   "source": [
    "documentA = 'Jupiter is the largest Planet' \n",
    "documentB = 'Mars is the fourth planet from the Sun' "
   ]
  },
  {
   "cell_type": "code",
   "execution_count": 25,
   "id": "0ac4e16a",
   "metadata": {},
   "outputs": [],
   "source": [
    "bagOfWordsA = documentA.split(' ') \n",
    "bagOfWordsB = documentB.split(' ') "
   ]
  },
  {
   "cell_type": "code",
   "execution_count": 26,
   "id": "66c4e3d3",
   "metadata": {},
   "outputs": [],
   "source": [
    "uniqueWords = set(bagOfWordsA).union(set(bagOfWordsB))"
   ]
  },
  {
   "cell_type": "code",
   "execution_count": 27,
   "id": "77a38ef5",
   "metadata": {},
   "outputs": [
    {
     "data": {
      "text/plain": [
       "{'Jupiter',\n",
       " 'Mars',\n",
       " 'Planet',\n",
       " 'Sun',\n",
       " 'fourth',\n",
       " 'from',\n",
       " 'is',\n",
       " 'largest',\n",
       " 'planet',\n",
       " 'the'}"
      ]
     },
     "execution_count": 27,
     "metadata": {},
     "output_type": "execute_result"
    }
   ],
   "source": [
    "uniqueWords"
   ]
  },
  {
   "cell_type": "code",
   "execution_count": 28,
   "id": "e7eef00d",
   "metadata": {},
   "outputs": [],
   "source": [
    "numOfWordsA = dict.fromkeys(uniqueWords, 0) \n",
    "for word in bagOfWordsA: \n",
    "    numOfWordsA[word] += 1 \n",
    "    numOfWordsB = dict.fromkeys(uniqueWords, 0) \n",
    "for word in bagOfWordsB: \n",
    "    numOfWordsB[word] += 1 "
   ]
  },
  {
   "cell_type": "code",
   "execution_count": 29,
   "id": "41caf739",
   "metadata": {},
   "outputs": [
    {
     "data": {
      "text/plain": [
       "{'Mars': 0,\n",
       " 'Sun': 0,\n",
       " 'largest': 1,\n",
       " 'Jupiter': 1,\n",
       " 'fourth': 0,\n",
       " 'from': 0,\n",
       " 'is': 1,\n",
       " 'Planet': 1,\n",
       " 'planet': 0,\n",
       " 'the': 1}"
      ]
     },
     "execution_count": 29,
     "metadata": {},
     "output_type": "execute_result"
    }
   ],
   "source": [
    "numOfWordsA"
   ]
  },
  {
   "cell_type": "code",
   "execution_count": 30,
   "id": "828f7360",
   "metadata": {},
   "outputs": [
    {
     "data": {
      "text/plain": [
       "{'Mars': 1,\n",
       " 'Sun': 1,\n",
       " 'largest': 0,\n",
       " 'Jupiter': 0,\n",
       " 'fourth': 1,\n",
       " 'from': 1,\n",
       " 'is': 1,\n",
       " 'Planet': 0,\n",
       " 'planet': 1,\n",
       " 'the': 2}"
      ]
     },
     "execution_count": 30,
     "metadata": {},
     "output_type": "execute_result"
    }
   ],
   "source": [
    "numOfWordsB"
   ]
  },
  {
   "cell_type": "code",
   "execution_count": 36,
   "id": "9baaf737",
   "metadata": {},
   "outputs": [],
   "source": [
    "def computeTF(wordDict, bagOfWords):\n",
    "    tfDict = {}  # Initialize an empty dictionary for storing term frequencies\n",
    "    bagOfWordsCount = len(bagOfWords)  # Get the total number of words in the bag of words\n",
    "    for word, count in wordDict.items():\n",
    "        tfDict[word] = count / float(bagOfWordsCount)  # Calculate Term Frequency (TF)\n",
    "    \n",
    "    return tfDict "
   ]
  },
  {
   "cell_type": "code",
   "execution_count": 37,
   "id": "85b8865c",
   "metadata": {},
   "outputs": [],
   "source": [
    "tfA = computeTF(numOfWordsA, bagOfWordsA)"
   ]
  },
  {
   "cell_type": "code",
   "execution_count": 38,
   "id": "19268d95",
   "metadata": {},
   "outputs": [],
   "source": [
    " tfB = computeTF(numOfWordsB, bagOfWordsB)"
   ]
  },
  {
   "cell_type": "code",
   "execution_count": 39,
   "id": "caf47986",
   "metadata": {},
   "outputs": [
    {
     "data": {
      "text/plain": [
       "{'Mars': 0.0,\n",
       " 'Sun': 0.0,\n",
       " 'largest': 0.2,\n",
       " 'Jupiter': 0.2,\n",
       " 'fourth': 0.0,\n",
       " 'from': 0.0,\n",
       " 'is': 0.2,\n",
       " 'Planet': 0.2,\n",
       " 'planet': 0.0,\n",
       " 'the': 0.2}"
      ]
     },
     "execution_count": 39,
     "metadata": {},
     "output_type": "execute_result"
    }
   ],
   "source": [
    "tfA"
   ]
  },
  {
   "cell_type": "code",
   "execution_count": 40,
   "id": "f16368c7",
   "metadata": {},
   "outputs": [
    {
     "data": {
      "text/plain": [
       "{'Mars': 0.125,\n",
       " 'Sun': 0.125,\n",
       " 'largest': 0.0,\n",
       " 'Jupiter': 0.0,\n",
       " 'fourth': 0.125,\n",
       " 'from': 0.125,\n",
       " 'is': 0.125,\n",
       " 'Planet': 0.0,\n",
       " 'planet': 0.125,\n",
       " 'the': 0.25}"
      ]
     },
     "execution_count": 40,
     "metadata": {},
     "output_type": "execute_result"
    }
   ],
   "source": [
    "tfB"
   ]
  },
  {
   "cell_type": "code",
   "execution_count": 78,
   "id": "89e1d3fb",
   "metadata": {},
   "outputs": [
    {
     "name": "stdout",
     "output_type": "stream",
     "text": [
      "{'dog': 0.6931471805599453, 'cat': 0.6931471805599453, 'meowed': 0.6931471805599453, 'barked': 0.6931471805599453, 'the': 0.0}\n"
     ]
    }
   ],
   "source": [
    "import math\n",
    "\n",
    "def computeIDF(documents):\n",
    "    # Get all unique words from all documents\n",
    "    all_words = set(word for doc in documents for word in doc.keys())\n",
    "    \n",
    "    # Initialize IDF dictionary with zeroes for each unique word\n",
    "    idfDict = dict.fromkeys(all_words, 0)\n",
    "    \n",
    "    # Total number of documents\n",
    "    N = len(documents)\n",
    "\n",
    "    # Loop through each document\n",
    "    for document in documents:\n",
    "        # For each word in the document, if it appears, increment its count in idfDict\n",
    "        for word in document.keys():\n",
    "            if document[word] > 0:  # Only count words that appear in the document\n",
    "                idfDict[word] += 1  # Increment the document count for this word\n",
    "\n",
    "    # Now calculate the IDF for each word\n",
    "    for word, val in idfDict.items():\n",
    "        if val > 0:\n",
    "            idfDict[word] = math.log(N / float(val))  # Apply the IDF formula\n",
    "\n",
    "    return idfDict  # Return the IDF dictionary\n",
    "\n",
    "# Create a list of documents (each document is a dictionary of word counts)\n",
    "documents = [numOfWordsA,numOfWordsB]\n",
    "\n",
    "# Compute the IDF for these two documents\n",
    "idfs = computeIDF(documents)\n",
    "print(idfs)\n"
   ]
  },
  {
   "cell_type": "code",
   "execution_count": 2,
   "id": "eb3f2f0b",
   "metadata": {},
   "outputs": [
    {
     "ename": "NameError",
     "evalue": "name 'tfA' is not defined",
     "output_type": "error",
     "traceback": [
      "\u001b[1;31m---------------------------------------------------------------------------\u001b[0m",
      "\u001b[1;31mNameError\u001b[0m                                 Traceback (most recent call last)",
      "Cell \u001b[1;32mIn[2], line 12\u001b[0m\n\u001b[0;32m      9\u001b[0m         tfidf[word] \u001b[38;5;241m=\u001b[39m val \u001b[38;5;241m*\u001b[39m idfs\u001b[38;5;241m.\u001b[39mget(word, \u001b[38;5;241m0\u001b[39m)\n\u001b[0;32m     10\u001b[0m     \u001b[38;5;28;01mreturn\u001b[39;00m tfidf\n\u001b[1;32m---> 12\u001b[0m tfidfA \u001b[38;5;241m=\u001b[39m computeTFIDF(tfA, idfs) \n\u001b[0;32m     13\u001b[0m tfidfB \u001b[38;5;241m=\u001b[39m computeTFIDF(tfB, idfs)\n\u001b[0;32m     15\u001b[0m df \u001b[38;5;241m=\u001b[39m pd\u001b[38;5;241m.\u001b[39mDataFrame([tfidfA, tfidfB])\n",
      "\u001b[1;31mNameError\u001b[0m: name 'tfA' is not defined"
     ]
    }
   ],
   "source": [
    "import pandas as pd\n",
    "\n",
    "def computeTFIDF(uniqueWords, idfs): \n",
    "    if not isinstance(uniqueWords, dict):\n",
    "        raise ValueError(\"uniqueWords must be a dictionary.\")\n",
    "        \n",
    "    tfidf = {} \n",
    "    for word, val in uniqueWords.items():\n",
    "        tfidf[word] = val * idfs.get(word, 0)\n",
    "    return tfidf\n",
    "\n",
    "tfidfA = computeTFIDF(tfA, idfs) \n",
    "tfidfB = computeTFIDF(tfB, idfs)\n",
    "\n",
    "df = pd.DataFrame([tfidfA, tfidfB])\n"
   ]
  },
  {
   "cell_type": "code",
   "execution_count": null,
   "id": "4f9aac43",
   "metadata": {},
   "outputs": [],
   "source": []
  }
 ],
 "metadata": {
  "kernelspec": {
   "display_name": "Python 3 (ipykernel)",
   "language": "python",
   "name": "python3"
  },
  "language_info": {
   "codemirror_mode": {
    "name": "ipython",
    "version": 3
   },
   "file_extension": ".py",
   "mimetype": "text/x-python",
   "name": "python",
   "nbconvert_exporter": "python",
   "pygments_lexer": "ipython3",
   "version": "3.11.4"
  }
 },
 "nbformat": 4,
 "nbformat_minor": 5
}
